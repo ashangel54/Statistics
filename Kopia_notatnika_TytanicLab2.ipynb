{
  "nbformat": 4,
  "nbformat_minor": 0,
  "metadata": {
    "colab": {
      "provenance": [],
      "authorship_tag": "ABX9TyMxMiOZyHVsxIt9wj2V3BuK",
      "include_colab_link": true
    },
    "kernelspec": {
      "name": "python3",
      "display_name": "Python 3"
    },
    "language_info": {
      "name": "python"
    }
  },
  "cells": [
    {
      "cell_type": "markdown",
      "metadata": {
        "id": "view-in-github",
        "colab_type": "text"
      },
      "source": [
        "<a href=\"https://colab.research.google.com/github/ashangel54/Statistics/blob/main/Kopia_notatnika_TytanicLab2.ipynb\" target=\"_parent\"><img src=\"https://colab.research.google.com/assets/colab-badge.svg\" alt=\"Open In Colab\"/></a>"
      ]
    },
    {
      "cell_type": "code",
      "execution_count": null,
      "metadata": {
        "colab": {
          "base_uri": "https://localhost:8080/"
        },
        "id": "Bb9EDETVq15n",
        "outputId": "7e1f170c-2652-4df8-8caa-56c78bb87e84"
      },
      "outputs": [
        {
          "output_type": "stream",
          "name": "stdout",
          "text": [
            "Step 1: Population Statistics\n",
            "Percentage of passengers in each class:\n",
            "3    55.106622\n",
            "1    24.242424\n",
            "2    20.650954\n",
            "Name: pclass, dtype: float64\n",
            "\n",
            "Percentage of survivors and deceased passengers:\n",
            "0    61.616162\n",
            "1    38.383838\n",
            "Name: survived, dtype: float64\n",
            "\n",
            "Percentage of men and women among the passengers:\n",
            "male      64.758698\n",
            "female    35.241302\n",
            "Name: sex, dtype: float64\n",
            "\n",
            "Mean Age: 29.69911764705882\n",
            "Mean Fare: 32.204207968574636\n",
            "\n",
            "Step 2: Simple Random Sampling\n",
            "        survived    pclass        age      sibsp     parch        fare\n",
            "count  50.000000  50.00000  43.000000  50.000000  50.00000   50.000000\n",
            "mean    0.480000   2.22000  27.162791   0.520000   0.50000   39.960754\n",
            "std     0.504672   0.86402  11.805830   1.054437   1.05463   80.197458\n",
            "min     0.000000   1.00000   1.000000   0.000000   0.00000    7.050000\n",
            "25%     0.000000   1.00000  21.000000   0.000000   0.00000    7.978125\n",
            "50%     0.000000   2.50000  26.000000   0.000000   0.00000   14.977100\n",
            "75%     1.000000   3.00000  35.500000   1.000000   0.00000   31.359375\n",
            "max     1.000000   3.00000  54.000000   5.000000   5.00000  512.329200\n",
            "\n",
            "Step 3: Stratified Random Sampling\n",
            "         survived      pclass         age       sibsp       parch        fare\n",
            "count  150.000000  150.000000  123.000000  150.000000  150.000000  150.000000\n",
            "mean     0.460000    2.000000   31.351626    0.386667    0.260000   36.842276\n",
            "std      0.500067    0.819232   13.519766    0.702695    0.572643   46.278492\n",
            "min      0.000000    1.000000    0.420000    0.000000    0.000000    0.000000\n",
            "25%      0.000000    1.000000   22.000000    0.000000    0.000000    8.662500\n",
            "50%      0.000000    2.000000   31.000000    0.000000    0.000000   17.725000\n",
            "75%      1.000000    3.000000   39.000000    1.000000    0.000000   38.501050\n",
            "max      1.000000    3.000000   61.000000    5.000000    3.000000  262.375000\n",
            "\n",
            "Step 4: Cluster Sampling\n",
            "        survived     pclass        age      sibsp      parch        fare\n",
            "count  50.000000  50.000000  40.000000  50.000000  50.000000   50.000000\n",
            "mean    0.360000   2.420000  28.237500   0.460000   0.360000   20.645334\n",
            "std     0.484873   0.730949  13.434069   0.885484   0.920514   20.831651\n",
            "min     0.000000   1.000000   3.000000   0.000000   0.000000    0.000000\n",
            "25%     0.000000   2.000000  22.000000   0.000000   0.000000    7.895800\n",
            "50%     0.000000   3.000000  27.500000   0.000000   0.000000   13.000000\n",
            "75%     1.000000   3.000000  33.375000   1.000000   0.000000   26.000000\n",
            "max     1.000000   3.000000  66.000000   4.000000   5.000000  113.275000\n",
            "\n",
            "Step 5: Systematic Sampling\n",
            "        survived     pclass        age      sibsp      parch        fare\n",
            "count  53.000000  53.000000  43.000000  53.000000  53.000000   53.000000\n",
            "mean    0.320755   2.339623  28.151163   0.584906   0.358491   28.015009\n",
            "std     0.471233   0.853576  14.919839   1.081914   0.682031   36.856180\n",
            "min     0.000000   1.000000   2.000000   0.000000   0.000000    7.050000\n",
            "25%     0.000000   2.000000  20.000000   0.000000   0.000000    7.854200\n",
            "50%     0.000000   3.000000  25.000000   0.000000   0.000000   14.500000\n",
            "75%     1.000000   3.000000  36.000000   1.000000   0.000000   29.000000\n",
            "max     1.000000   3.000000  71.000000   4.000000   2.000000  221.779200\n"
          ]
        }
      ],
      "source": [
        "import pandas as pd\n",
        "import seaborn as sns\n",
        "import random\n",
        "\n",
        "# Load the Titanic dataset\n",
        "titanic_data = sns.load_dataset('titanic')\n",
        "\n",
        "# Step 1: Calculate the specified variables for the entire population (dataset)\n",
        "class_percentages = titanic_data['pclass'].value_counts(normalize=True) * 100\n",
        "survival_percentages = titanic_data['survived'].value_counts(normalize=True) * 100\n",
        "gender_percentages = titanic_data['sex'].value_counts(normalize=True) * 100\n",
        "mean_age = titanic_data['age'].mean()\n",
        "mean_fare = titanic_data['fare'].mean()\n",
        "\n",
        "print(\"Step 1: Population Statistics\")\n",
        "print(\"Percentage of passengers in each class:\")\n",
        "print(class_percentages)\n",
        "print(\"\\nPercentage of survivors and deceased passengers:\")\n",
        "print(survival_percentages)\n",
        "print(\"\\nPercentage of men and women among the passengers:\")\n",
        "print(gender_percentages)\n",
        "print(f\"\\nMean Age: {mean_age}\")\n",
        "print(f\"Mean Fare: {mean_fare}\\n\")\n",
        "\n",
        "# Sample size\n",
        "sample_size = 50\n",
        "\n",
        "# Step 2: Simple Random Sampling\n",
        "simple_random_sample = titanic_data.sample(sample_size, random_state=1)\n",
        "print(\"Step 2: Simple Random Sampling\")\n",
        "print(simple_random_sample.describe())\n",
        "print()\n",
        "\n",
        "# Step 3: Stratified Random Sampling (for example, based on passenger class)\n",
        "stratified_sample = titanic_data.groupby('pclass', group_keys=False).apply(lambda x: x.sample(50))\n",
        "print(\"Step 3: Stratified Random Sampling\")\n",
        "print(stratified_sample.describe())\n",
        "print()\n",
        "\n",
        "# Step 4: Cluster Sampling\n",
        "random_cluster = random.randint(1, 10)  # Random cluster selection\n",
        "cluster_sample = titanic_data.loc[random_cluster::10].sample(sample_size)\n",
        "print(\"Step 4: Cluster Sampling\")\n",
        "print(cluster_sample.describe())\n",
        "print()\n",
        "\n",
        "# Step 5: Systematic Sampling\n",
        "systematic_sample = titanic_data.iloc[::len(titanic_data) // sample_size]\n",
        "print(\"Step 5: Systematic Sampling\")\n",
        "print(systematic_sample.describe())"
      ]
    }
  ]
}